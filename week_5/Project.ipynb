{
 "cells": [
  {
   "cell_type": "code",
   "execution_count": 10,
   "id": "6323690c",
   "metadata": {},
   "outputs": [
    {
     "name": "stdout",
     "output_type": "stream",
     "text": [
      "GIRLS DATA\n",
      "NAME | AGE | HEIGHT | SCORE\n",
      "samantha | 17 | 5.5 | 80\n",
      "jada | 16 | 6.0 | 85\n",
      "jane | 17 | 5.4 | 70\n",
      "claire | 18 | 5.9 | 60\n",
      "elizabeth | 16 | 5.6 | 76\n",
      "mary | 18 | 5.5 | 66\n",
      "susan | 17 | 6.1 | 87\n",
      "wale | 20 | 6.0 | 95\n",
      "taibat | 19 | 5.7 | 50\n",
      "lilian | 17 | 5.5 | 49\n",
      "\n",
      "\n",
      " BOYS DATA\n",
      "NAME | AGE | HEIGHT | SCORE\n",
      "Charles | 19 | 5.7 | 74\n",
      "Jude | 16 | 5.9 | 87\n",
      "James | 18 | 5.8 | 75\n",
      "Kelvin | 17 | 6.1 | 68\n",
      "Biodun | 20 | 5.9 | 66\n",
      "Wale | 19 | 5.5 | 78\n",
      "Kunle | 16 | 6.1 | 87\n",
      "Matthew | 18 | 5.4 | 98\n",
      "Tom | 17 | 5.8 | 54\n",
      "Kayode | 19 | 5.7 | 60\n"
     ]
    }
   ],
   "source": [
    "Name1 = ['samantha','jada','jane','claire','elizabeth','mary','susan','wale','taibat','lilian']\n",
    "Age1 = [17,16,17,18,16,18,17,20,19,17]\n",
    "Height1 = [5.5,6.0,5.4,5.9,5.6,5.5,6.1,6.0,5.7,5.5]\n",
    "Score1 = [80,85,70,60,76,66,87,95,50,49]\n",
    "\n",
    "print(\"GIRLS DATA\")\n",
    "print(\"NAME | AGE | HEIGHT | SCORE\")\n",
    "\n",
    "for i in range(len(Name1)):\n",
    "    print(Name1[i],\"|\",Age1[i],\"|\",Height1[i],\"|\",Score1[i])\n",
    "        \n",
    "        \n",
    "        \n",
    "Name2 = ['Charles','Jude','James','Kelvin','Biodun','Wale','Kunle','Matthew','Tom','Kayode']\n",
    "Age2 = [19,16,18,17,20,19,16,18,17,19]\n",
    "Height2 = [5.7,5.9,5.8,6.1,5.9,5.5,6.1,5.4,5.8,5.7]\n",
    "Score2 = [74,87,75,68,66,78,87,98,54,60]\n",
    "\n",
    "print(\"\\n\\n BOYS DATA\")\n",
    "print(\"NAME | AGE | HEIGHT | SCORE\")\n",
    "\n",
    "for i in range(len(Name2)):\n",
    "    print(Name2[i],\"|\",Age2[i],\"|\",Height2[i],\"|\",Score2[i])  \n",
    "    "
   ]
  },
  {
   "cell_type": "code",
   "execution_count": 11,
   "id": "9c022a98",
   "metadata": {},
   "outputs": [
    {
     "name": "stdout",
     "output_type": "stream",
     "text": [
      "Welcome to the Megapixel fintech company\n",
      "This is the annual tax revenue generator\n",
      "\n",
      "Enter you age: 55\n",
      "Enter your number of years of experience: 55\n",
      "Your Annual Tax Revenue is N5,600,000\n"
     ]
    }
   ],
   "source": [
    "print(\"Welcome to the Megapixel fintech company\")\n",
    "print(\"This is the annual tax revenue generator\\n\")\n",
    "\n",
    "age = int(input('Enter you age: '))\n",
    "xp = int(input('Enter your number of years of experience: '))\n",
    "\n",
    "if xp > 25 and age == 55 or age > 55:\n",
    "    print(\"Your Annual Tax Revenue is N5,600,000\")\n",
    "elif xp > 20 and age == 45 or age > 55:\n",
    "    print(\"Your Annual Tax Revenue is N4,480,000\")\n",
    "elif xp > 10 and ag == 35 or age > 55:\n",
    "    print(\"Your Annual Tax Revue is N1,500,000\")\n",
    "else:\n",
    "    print(\"Your Annual Tax Revenue is N550,000\")"
   ]
  },
  {
   "cell_type": "code",
   "execution_count": null,
   "id": "de40e5af",
   "metadata": {},
   "outputs": [],
   "source": []
  }
 ],
 "metadata": {
  "kernelspec": {
   "display_name": "Python 3 (ipykernel)",
   "language": "python",
   "name": "python3"
  },
  "language_info": {
   "codemirror_mode": {
    "name": "ipython",
    "version": 3
   },
   "file_extension": ".py",
   "mimetype": "text/x-python",
   "name": "python",
   "nbconvert_exporter": "python",
   "pygments_lexer": "ipython3",
   "version": "3.10.9"
  }
 },
 "nbformat": 4,
 "nbformat_minor": 5
}
