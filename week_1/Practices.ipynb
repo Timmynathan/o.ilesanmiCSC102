{
 "cells": [
  {
   "cell_type": "code",
   "execution_count": 1,
   "id": "b432face",
   "metadata": {},
   "outputs": [
    {
     "name": "stdout",
     "output_type": "stream",
     "text": [
      "100\n",
      "Data Type of variable num is <class 'int'>\n",
      "34.45\n",
      "Data Type of variable fnum is <class 'float'>\n",
      "(3+4j)\n",
      "Data Type of variable cnum is <class 'complex'>\n"
     ]
    }
   ],
   "source": [
    "# Integer number\n",
    "num = 100\n",
    "print(num)\n",
    "print(\"Data Type of variable num is\", type(num))\n",
    "\n",
    "# float number\n",
    "fnum = 34.45\n",
    "print(fnum)\n",
    "print(\"Data Type of variable fnum is\", type(fnum))\n",
    "\n",
    "# complex number\n",
    "cnum = 3 + 4j\n",
    "print(cnum)\n",
    "print(\"Data Type of variable cnum is\", type(cnum))"
   ]
  },
  {
   "cell_type": "code",
   "execution_count": 2,
   "id": "666f74a8",
   "metadata": {},
   "outputs": [
    {
     "ename": "SyntaxError",
     "evalue": "invalid syntax (2751269148.py, line 12)",
     "output_type": "error",
     "traceback": [
      "\u001b[0;36m  Cell \u001b[0;32mIn[2], line 12\u001b[0;36m\u001b[0m\n\u001b[0;31m    Hi my name is Matthew. I am String\u001b[0m\n\u001b[0m       ^\u001b[0m\n\u001b[0;31mSyntaxError\u001b[0m\u001b[0;31m:\u001b[0m invalid syntax\n"
     ]
    }
   ],
   "source": [
    "\n",
    "# Python program to print strings and type\n",
    "str1 = \"Hi my name is Matthew. I am String\"\n",
    "str2 = 'Hi my name is Precious. I am also a String'\n",
    "\n",
    "# displaying string str1 and its type\n",
    "print(str1)\n",
    "print(type(str1))\n",
    "\n",
    "# displaying string str2 and its type\n",
    "print(str2)\n",
    "print(type(str2))\n",
    "Hi my name is Matthew. I am String\n",
    "<class 'str'>\n",
    "Hi my name is Precious. I am also a String\n",
    "<class 'str'>\n",
    " "
   ]
  },
  {
   "cell_type": "code",
   "execution_count": null,
   "id": "427e8124",
   "metadata": {},
   "outputs": [],
   "source": []
  }
 ],
 "metadata": {
  "kernelspec": {
   "display_name": "Python 3 (ipykernel)",
   "language": "python",
   "name": "python3"
  },
  "language_info": {
   "codemirror_mode": {
    "name": "ipython",
    "version": 3
   },
   "file_extension": ".py",
   "mimetype": "text/x-python",
   "name": "python",
   "nbconvert_exporter": "python",
   "pygments_lexer": "ipython3",
   "version": "3.10.9"
  }
 },
 "nbformat": 4,
 "nbformat_minor": 5
}
