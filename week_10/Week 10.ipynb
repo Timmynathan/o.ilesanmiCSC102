{
 "cells": [
  {
   "cell_type": "code",
   "execution_count": 2,
   "id": "fe0a4912",
   "metadata": {},
   "outputs": [
    {
     "name": "stdout",
     "output_type": "stream",
     "text": [
      "Input the number of Oranges you want to purchase(MAX : 250 pieces)500\n",
      "Unfortunately, at the moment we do not have that many in stock\n"
     ]
    }
   ],
   "source": [
    "class shelby_company(object):\n",
    "        def oranges(self,num):\n",
    "            self.num = num\n",
    "            \n",
    "try:\n",
    "    num = int(input(\"Input the number of Oranges you want to purchase(MAX : 250 pieces)\"))\n",
    "    if num > 250 :\n",
    "        print(\"Unfortunately, at the moment we do not have that many in stock\")\n",
    "            \n",
    "    else :\n",
    "        print(f\"Your {num} items will be processed\")\n",
    "        cost = num * 200\n",
    "        print(f\"Total cost of items : N{cost}.00,(conversion rate : N200.00 per piece)\")\n",
    "        print(\"Thankyou for your Patronage, Shelby company ltd.\")\n",
    "          \n",
    "        shelby = shelby_company()\n",
    "        shelby.oranges(num)\n",
    "\n",
    "except ValueError:\n",
    "    print('invalid input, input a number.')\n",
    "    \n",
    "    while num > 250:\n",
    "        print(\"Kindly input a lesser number\")\n",
    "        "
   ]
  },
  {
   "cell_type": "code",
   "execution_count": 4,
   "id": "d1b98d54",
   "metadata": {},
   "outputs": [
    {
     "name": "stdout",
     "output_type": "stream",
     "text": [
      "input 1 for trapezium\n",
      "input 2 for rohmbus\n",
      "input 3 for parallelogram\n",
      "input 4 for cube\n",
      "input 5 for cylinder\n",
      "1\n",
      "input the first base3\n",
      "input the second base4\n",
      "input the height5\n",
      "Solution is 17.5\n"
     ]
    }
   ],
   "source": [
    "class calculations():\n",
    "    def trapezium(self):\n",
    "        base_1 = int(input(\"input the first base\"))\n",
    "        base_2 = int(input(\"input the second base\"))\n",
    "        height = int(input(\"input the height\"))\n",
    "        t = 1/2 * (base_1 + base_2) * height\n",
    "        print(\"Solution is\", t)\n",
    "    \n",
    "    def rhombus(self):\n",
    "        diagonal_1 = int(input(\"input the first diagonal\"))\n",
    "        diagonal_2 = int(input(\"input the second diagonal\"))\n",
    "        r = 1/2 * diagonal_1 * diagonal_2\n",
    "        print(\"Solution is\", r)\n",
    "        \n",
    "    def parallelogram(self):\n",
    "        base = int(input(\"input the base\"))\n",
    "        altitude = int(input(\"input the altitude\"))\n",
    "        p = base * altitude\n",
    "        print(\"Solution is\", p)\n",
    "    \n",
    "    def cube(self):\n",
    "        length = int(input(\"input the length\"))\n",
    "        cu = 6 * length * 2\n",
    "        print(\"Solution is\",cu)\n",
    "        \n",
    "    def cylinder(self):\n",
    "        radius = int(input(\"input the radius\"))\n",
    "        height = int(input(\"input the height\"))\n",
    "        cy = 3.142 * radius^2 * height\n",
    "        print(\"Solution is\", cy)\n",
    "                     \n",
    "timmy = calculations()\n",
    "print(\"input 1 for trapezium\")\n",
    "print(\"input 2 for rohmbus\")\n",
    "print(\"input 3 for parallelogram\")\n",
    "print(\"input 4 for cube\")\n",
    "print(\"input 5 for cylinder\")\n",
    "a = int(input())\n",
    "\n",
    "if a == 1:\n",
    "    timmy.trapezium()\n",
    "elif a == 2:\n",
    "    timmy.rohmbus(1,2)\n",
    "elif a == 3:\n",
    "    timmy.parallelogram(1,2)                \n",
    "elif a == 4:\n",
    "    timmy.cube(1)\n",
    "elif timmy == 5:\n",
    "    timmy.cylinder(1,2)\n",
    "else :\n",
    "    print(\"Invalid input, input between 1 to 5\")\n",
    "\n",
    "                     \n",
    "                     \n",
    "                     \n",
    "                     \n",
    "                     \n",
    "                     "
   ]
  },
  {
   "cell_type": "code",
   "execution_count": 2,
   "id": "bbcc9b2e",
   "metadata": {},
   "outputs": [
    {
     "name": "stdout",
     "output_type": "stream",
     "text": [
      "Data has successfully been created to CSV file\n"
     ]
    }
   ],
   "source": [
    "import pandas as pd\n",
    "\n",
    "Nigerian_breweries = {'lager' : ['33export','Desperados','Goldberg','Gulder','Heneken','Star'],\n",
    "'Stout' : ['Legend','Turbo King','Williams','','',''],\n",
    "'Non_Alcoholic' : ['Maltina','Amstel Malta','Malta Gold','Fayrouz','','']}\n",
    "\n",
    "df = pd.DataFrame(Nigerian_breweries)\n",
    "df.to_csv('Nigerian_breweries.csv')\n",
    "print(\"Data has successfully been created to CSV file\")\n"
   ]
  },
  {
   "cell_type": "code",
   "execution_count": null,
   "id": "2608db66",
   "metadata": {},
   "outputs": [],
   "source": []
  }
 ],
 "metadata": {
  "kernelspec": {
   "display_name": "Python 3 (ipykernel)",
   "language": "python",
   "name": "python3"
  },
  "language_info": {
   "codemirror_mode": {
    "name": "ipython",
    "version": 3
   },
   "file_extension": ".py",
   "mimetype": "text/x-python",
   "name": "python",
   "nbconvert_exporter": "python",
   "pygments_lexer": "ipython3",
   "version": "3.10.9"
  }
 },
 "nbformat": 4,
 "nbformat_minor": 5
}
