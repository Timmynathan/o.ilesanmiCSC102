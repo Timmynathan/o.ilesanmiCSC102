{
 "cells": [
  {
   "cell_type": "code",
   "execution_count": 3,
   "id": "8ee1e221",
   "metadata": {},
   "outputs": [
    {
     "name": "stdout",
     "output_type": "stream",
     "text": [
      "Please input your Full Name and Department?ADEWUMI\n",
      "['S/N', 'SURNAME', 'FIRST NAME', 'DEPARTMENT', '']\n",
      "['1', 'ADENIRAN', 'Oluwatamilore', 'Logistics', '']\n",
      "['2', 'ADEWUMI', 'Ayomide', 'Accounting', '']\n",
      "['3', 'ADOH-AJAGBE', 'Oshim', 'Delivery', '']\n",
      "['4', 'AGBAKURU- \\\\NWOGU', 'Chukwunonye', 'Accounting', '']\n",
      "['5', 'AGBAKWURU', 'Chiemeziem', 'Logistics', '']\n",
      "['6', 'AKINDE', 'Oluwatimehin', 'Accounting', '']\n",
      "['7', 'ARNIKA', 'Osose', 'Logistics', '']\n",
      "['8', 'ATELLY', 'Daniel', 'Delivery', '']\n",
      "['9', 'AZOGU', 'Onyekachi', 'Delivery', '']\n",
      "['10', 'BETURE', 'Shalom', 'Delivery', '']\n",
      "['11', 'CHUKWUMA', 'Nedi', 'Logistics', '']\n",
      "['12', 'EBI', 'Stephanie', 'Accounting', '']\n",
      "['13', 'EGBORO', 'Jason', 'Administration', '']\n",
      "['14', 'EJEDIMU', 'Edward', 'Delivery', '']\n",
      "['15', 'ELERI', 'Otu', 'Administration', '']\n",
      "['16', 'EZE', 'Onyinyechi', 'Administration', '']\n",
      "['17', 'EZEONYE', 'Makuochukwu', 'Logistics', '']\n",
      "['18', 'GIWA', 'Moyosore', 'Logistics', '']\n",
      "['19', 'ICHA', 'Ayonete', 'Accounting', '']\n",
      "['20', 'IKPATI', 'Eche', 'Accounting', '']\n",
      "['21', 'ILOENYOSI', 'Michael', 'Delivery', '']\n",
      "['22', 'IYAWE', 'Oluwadamilola', 'Delivery', '']\n",
      "['23', 'NWOKOLO', 'Chijindu', 'Logistics', '']\n",
      "['24', 'NWOTOKUBO', 'Joseph', 'Logistics', '']\n",
      "['25', 'OBASOGIE', 'Daisy', 'Accounting', '']\n",
      "['26', 'OBI ', 'Samuel', 'Accounting', '']\n",
      "['27', 'OBIALOR', 'Betha', 'Accounting', '']\n",
      "['28', 'OGBONNA', 'Boluwatife', 'Delivery', '']\n",
      "['29', 'OIGBOCHIE', 'Mary', 'Delivery', '']\n",
      "['30', 'OKOCHA-OJEAH', 'Raphael', 'Administration', '']\n",
      "['31', 'OKOLO', 'Victor', 'Administration', '']\n",
      "['32', 'OKORO', 'Derek', 'Logistics', '']\n",
      "['33', 'OLOWOKERE', 'Akorede', 'Accounting', '']\n",
      "['34', 'OLUBUADE', 'Rasheed', 'Accounting', '']\n",
      "['35', 'OSEMEKE', 'Daniel', 'Accounting', '']\n",
      "['36', 'OSSAI', 'Mary-Cynthia', 'Logistics', '']\n",
      "['37', 'PETER', 'Owoede', 'Logistics', '']\n",
      "['38', 'QUADRI', 'Oluwafikunmi', 'Delivery', '']\n",
      "['39', 'UDE-IBE', 'Uchenna', 'Delivery', '']\n",
      "['40', 'UMEH', 'Ejike', 'Administration', '']\n",
      "['', '', '', '', '']\n",
      "Yes, You are an employee of Jt ventures\n"
     ]
    }
   ],
   "source": [
    "import csv\n",
    "\n",
    "verifyname = input(\"Please input your Full Name and Department?\")\n",
    "\n",
    "#introducing csv file\n",
    "data = open(\"jtventures.csv\",\"r\")\n",
    "reader = csv.reader(data)\n",
    "\n",
    "cat = \"No, You are not an employee of Jt ventures\"\n",
    "\n",
    "for i in reader :\n",
    "    if verifyname in i:\n",
    "        cat = \"Yes, You are an employee of Jt ventures\"\n",
    "    print(i)\n",
    "\n",
    "data.close()\n",
    "print('{}'.format(cat))\n"
   ]
  },
  {
   "cell_type": "code",
   "execution_count": 22,
   "id": "1d6d7996",
   "metadata": {},
   "outputs": [
    {
     "name": "stdout",
     "output_type": "stream",
     "text": [
      "Welcome to Yega Services and Delivery\n",
      "We only deliver to Ibeju-lekki and Epe at the moment\n",
      "\n",
      "Location info : input 1 for ibeju-lekki and 2 for Epe:1\n",
      "Input the Weight in Kilograms:25\n",
      "Total Charge : N2,000.00\n"
     ]
    }
   ],
   "source": [
    "print(\"Welcome to Yega Services and Delivery\")\n",
    "print(\"We only deliver to Ibeju-lekki and Epe at the moment\")\n",
    "\n",
    "location = int(input(\"\\nLocation info : input 1 for ibeju-lekki and 2 for Epe:\"))\n",
    "weight = int(input(\"Input the Weight in Kilograms:\"))\n",
    "\n",
    "if location == 1 and weight == 10 or weight > 10:\n",
    "    print(\"Total Charge : N2,000.00\")\n",
    "elif location == 1 and weight < 10:\n",
    "    print(\"Total Charge : N1,500.00\")\n",
    "elif location == 2 and weight == 10 or weight > 10:\n",
    "    print(\"Total Charge : N5,000.00\")\n",
    "elif location == 2 and weight < 10:\n",
    "    print(\"Total Charge : N4,000.00\")\n",
    "          "
   ]
  },
  {
   "cell_type": "code",
   "execution_count": 18,
   "id": "625aaa83",
   "metadata": {},
   "outputs": [
    {
     "ename": "IndentationError",
     "evalue": "unexpected indent (358801578.py, line 15)",
     "output_type": "error",
     "traceback": [
      "\u001b[0;36m  Cell \u001b[0;32mIn[18], line 15\u001b[0;36m\u001b[0m\n\u001b[0;31m    if A == 60 or A > 60 and B == 60 or B > 60 and C == 60 or C > 60 and D == 60 or D > 60 and E == 60 or E > 60:\u001b[0m\n\u001b[0m    ^\u001b[0m\n\u001b[0;31mIndentationError\u001b[0m\u001b[0;31m:\u001b[0m unexpected indent\n"
     ]
    }
   ],
   "source": [
    "print(\"Welcome to SIMS\")\n",
    "print(\"Admission Checker\")\n",
    "\n",
    "dept = int(input(\"What is your Department? Input 1 for Computer Science and 2 for Mass communication\"))\n",
    "\n",
    "if dept == 1:\n",
    "    jamb = int(input(\"Please input JAMB score:\"))\n",
    "    if jamb == 230 or jamb > 230:\n",
    "        A = int(input(\"Input Grade for English:\"))\n",
    "        B = int(input(\"Input Grade for Mathematics:\"))\n",
    "        C = int(input(\"Input Grade for Physics:\"))\n",
    "        D = int(input(\"Input Grade for Chemistry:\"))\n",
    "        E = int(input(\"Input Grade for ICT:\"))\n",
    "        \n",
    "         if A == 60 or A > 60 and B == 60 or B > 60 and C == 60 or C > 60 and D == 60 or D > 60 and E == 60 or E > 60:\n",
    "            print(\"You have Credit in all the 5 key subjects\")\n",
    "            interview = int(input(\"Did you pass the interview, input 1 for Yes and 2 for No\"))\n",
    "            if interview == 1:\n",
    "                print(\"Congratulations! You have been admitted to Pan-atlantic university\")\n",
    "            else :\n",
    "                   print(\"Unfortunately, you were not chosen to be admitted into Pan-atlantic university\") \n",
    "        else:\n",
    "            print(\"You do not have Credit in all the 5 key subjects\")\n",
    "    else:\n",
    "        print('Unfortunately you did not meet the cut-off mark')\n",
    "\n",
    "if dept == 2:\n",
    "    jamb = int(input(\"Please input JAMB score:\"))\n",
    "    if jamb == 220 or jamb > 220:\n",
    "        F = int(input(\"Input Grade for English:\"))\n",
    "        G = int(input(\"Input Grade for Mathematics:\"))\n",
    "        H = int(input(\"Input Grade for Physics:\"))\n",
    "        I = int(input(\"Input Grade for Geography:\"))\n",
    "        J = int(input(\"Input Grade for ICT:\"))\n",
    "        \n",
    "         if F == 60 or F > 60 and G == 60 or G > 60 and H == 60 or H > 60 and I == 60 or I > 60 and J == 60 or J > 60:\n",
    "            print(\"You passed all the 5 key subjects\")\n",
    "            interview = int(input(\"Did you pass the interview, input 1 for Yes and 2 for No\"))\n",
    "            if interview == 1:\n",
    "                print(\"Congratulations! You have been admitted to Pan-atlantic university\")\n",
    "            else :\n",
    "                    print(\"Unfortunately, you were not chosen to be admitted into Pan-atlantic university\") \n",
    "        else:\n",
    "            print(\"You do not have at least a Credit in all the 5 key subjects\")\n",
    "    else:\n",
    "        print('Unfortunately you did not meet the cut-off mark')\n",
    "        \n",
    "        "
   ]
  },
  {
   "cell_type": "code",
   "execution_count": null,
   "id": "13c6898c",
   "metadata": {},
   "outputs": [],
   "source": []
  },
  {
   "cell_type": "code",
   "execution_count": null,
   "id": "f0640dba",
   "metadata": {},
   "outputs": [],
   "source": []
  }
 ],
 "metadata": {
  "kernelspec": {
   "display_name": "Python 3 (ipykernel)",
   "language": "python",
   "name": "python3"
  },
  "language_info": {
   "codemirror_mode": {
    "name": "ipython",
    "version": 3
   },
   "file_extension": ".py",
   "mimetype": "text/x-python",
   "name": "python",
   "nbconvert_exporter": "python",
   "pygments_lexer": "ipython3",
   "version": "3.10.9"
  }
 },
 "nbformat": 4,
 "nbformat_minor": 5
}
